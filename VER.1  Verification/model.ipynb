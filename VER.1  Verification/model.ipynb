{
 "cells": [
  {
   "cell_type": "code",
   "execution_count": 5,
   "metadata": {},
   "outputs": [],
   "source": [
    "import keras.backend as K\n",
    "import matplotlib.pyplot as plt\n",
    "import numpy as np\n",
    "from keras import layers, optimizers, regularizers\n",
    "from keras.applications.imagenet_utils import preprocess_input\n",
    "from keras.layers import (Activation, AveragePooling2D, BatchNormalization,\n",
    "                          Conv2D, Dense, Dropout, Flatten,\n",
    "                          GlobalAveragePooling2D, GlobalMaxPooling2D, Input,\n",
    "                          MaxPooling2D, ZeroPadding2D, ActivityRegularization)\n",
    "from keras.models import Model, load_model\n",
    "from keras.preprocessing import image\n",
    "from keras.utils import layer_utils, plot_model\n",
    "from keras.utils.data_utils import get_file\n",
    "from keras.utils.vis_utils import model_to_dot\n",
    "from matplotlib.pyplot import imshow\n",
    "from utils import *\n",
    "\n",
    "import string"
   ]
  },
  {
   "cell_type": "code",
   "execution_count": 2,
   "metadata": {},
   "outputs": [
    {
     "name": "stdout",
     "output_type": "stream",
     "text": [
      "0123456789ABCDEFGHIJKLMNOPQRSTUVWXYZ\n"
     ]
    }
   ],
   "source": [
    "characters = string.digits + string.ascii_uppercase\n",
    "print(characters)\n",
    "n_class, n_len = len(characters), 4 #一共36个字符，每个验证码4个字符\n",
    "\n",
    "K.set_image_data_format('channels_last')"
   ]
  },
  {
   "cell_type": "code",
   "execution_count": 3,
   "metadata": {},
   "outputs": [
    {
     "name": "stdout",
     "output_type": "stream",
     "text": [
      "number of training examples = 24000\n",
      "number of test examples = 30\n",
      "X_train shape: (24000, 60, 240, 3)\n",
      "Y_train shape: (24000,)\n",
      "X_test shape: (30, 60, 240, 3)\n",
      "Y_test shape: (30,)\n"
     ]
    }
   ],
   "source": [
    "X_train_orig, Y_train_orig, X_test_orig, Y_test_orig = load_datasets()\n",
    "\n",
    "# Normalize image vectors\n",
    "X_train = X_train_orig/255.\n",
    "X_test = X_test_orig/255.\n",
    "\n",
    "# Reshape\n",
    "Y_train = Y_train_orig.T\n",
    "Y_test = Y_test_orig.T\n",
    "\n",
    "print (\"number of training examples = \" + str(X_train.shape[0]))\n",
    "print (\"number of test examples = \" + str(X_test.shape[0]))\n",
    "print (\"X_train shape: \" + str(X_train.shape))\n",
    "print (\"Y_train shape: \" + str(Y_train.shape))\n",
    "print (\"X_test shape: \" + str(X_test.shape))\n",
    "print (\"Y_test shape: \" + str(Y_test.shape))\n",
    "\n",
    "Y = [np.zeros((Y_train.shape[0], n_class), dtype=np.uint8) for i in range(n_len)]\n",
    "for i, y in enumerate(Y_train):\n",
    "    y = y.decode()\n",
    "    for j, ch in enumerate(y):\n",
    "        # print(y)\n",
    "        # y[j][i, :] = 0\n",
    "        Y[j][i, characters.find(ch)] = 1\n",
    "        # Y[i][j, characters.find(ch)] = 1\n",
    "# print(Y)\n",
    "\n",
    "Z = [np.zeros((Y_test.shape[0], n_class), dtype=np.uint8) for i in range(n_len)]\n",
    "for i, y in enumerate(Y_test):\n",
    "    y = y.decode()\n",
    "    for j, ch in enumerate(y):\n",
    "        # print(y)\n",
    "        # y[j][i, :] = 0\n",
    "        Z[j][i, characters.find(ch)] = 1\n",
    "        # Y[i][j, characters.find(ch)] = 1\n",
    "# print(Z)"
   ]
  },
  {
   "cell_type": "code",
   "execution_count": 6,
   "metadata": {},
   "outputs": [],
   "source": [
    "def CNNModel(input_shape):\n",
    "    X_input = Input(input_shape)\n",
    "    x = X_input\n",
    "    # for i in range(4):\n",
    "    #     x = ZeroPadding2D((1,1))\n",
    "    #     x = Conv2D(32*2**i, (3, 3), activation='relu')(x)\n",
    "    #     x = Conv2D(32*2**i, (3, 3), activation='relu')(x)\n",
    "    #     x = MaxPooling2D((2, 2))(x)\n",
    "    x = ZeroPadding2D((1,1))(x)\n",
    "    x = Conv2D(64, (7,7), activation='relu', kernel_regularizer=regularizers.l2(0.03), name='conv0')(x)\n",
    "    x = MaxPooling2D((3, 3))(x)\n",
    "    x = Conv2D(128, (5,5), activation='relu', kernel_regularizer=regularizers.l2(0.03), name='conv1')(x)\n",
    "    x = MaxPooling2D((3,3))(x)\n",
    "    x = Conv2D(256, (3,3), activation='relu', kernel_regularizer=regularizers.l2(0.03), name='conv2')(x)\n",
    "    \n",
    "    x = Flatten()(x)\n",
    "    x = Dropout(0.25)(x)\n",
    "    x = Dense(1024, activation='relu', name='fc0')(x)\n",
    "    # x = Dense(10000, activation='relu', name='FC0')(x)\n",
    "    # x = Dense(1024, activation='relu', name='FC1')(x)\n",
    "\n",
    "    x = [Dense(n_class, activation='softmax', name='c%d'%(i+1))(x) for i in range(4)]\n",
    "    model = Model(inputs=X_input, outputs=x, name=\"CNNModel\")\n",
    "    return model\n"
   ]
  },
  {
   "cell_type": "code",
   "execution_count": 7,
   "metadata": {
    "scrolled": true
   },
   "outputs": [
    {
     "name": "stdout",
     "output_type": "stream",
     "text": [
      "Epoch 1/3\n",
      "24000/24000 [==============================] - 1170s 49ms/step - loss: 12.9443 - c1_loss: 2.9272 - c2_loss: 2.9516 - c3_loss: 2.9329 - c4_loss: 2.9379 - c1_acc: 0.3486 - c2_acc: 0.3381 - c3_acc: 0.3480 - c4_acc: 0.3427\n",
      "Epoch 2/3\n",
      "24000/24000 [==============================] - 1339s 56ms/step - loss: 8.9131 - c1_loss: 2.1092 - c2_loss: 2.1352 - c3_loss: 2.0903 - c4_loss: 2.2616 - c1_acc: 0.4440 - c2_acc: 0.4325 - c3_acc: 0.4480 - c4_acc: 0.4156\n",
      "Epoch 3/3\n",
      "24000/24000 [==============================] - 1313s 55ms/step - loss: 2.4174 - c1_loss: 0.4274 - c2_loss: 0.4765 - c3_loss: 0.4352 - c4_loss: 0.5489 - c1_acc: 0.8611 - c2_acc: 0.8466 - c3_acc: 0.8535 - c4_acc: 0.8263\n"
     ]
    }
   ],
   "source": [
    "# happyModel = HappyModel((64,64,3))\n",
    "# lrs = [3e-4, 5e-4, 1e-4, 7e-5]\n",
    "lrs = [3e-4]\n",
    "for lr in lrs:\n",
    "\n",
    "    cnnModel = CNNModel((60, 240, 3))\n",
    "    # cnnModel.summary()\n",
    "    # 需要修改loss_function\n",
    "    # happyModel.compile(optimizer='adam', loss=\"binary_crossentropy\", metrics=['accuracy'])\n",
    "    adam = optimizers.Adam(lr=lr, beta_1=0.9, beta_2=0.999,\n",
    "                    epsilon=None, decay=0.0, amsgrad=False)\n",
    "    cnnModel.compile(loss='categorical_crossentropy',\n",
    "                optimizer='adam',\n",
    "                metrics=['accuracy'])\n",
    "    # categorical_crossentropy\n",
    "\n",
    "    # happyModel.fit(x=X_train, y=Y_train, epochs=10, batch_size=25)\n",
    "    cnnModel.fit(x=X_train, y=Y, epochs=3, batch_size=128)\n",
    "\n",
    "    # preds = cnnModel.evaluate(x=X_test, y=Z)\n",
    "\n",
    "    # print()\n",
    "    # print (\"Loss = \" + str(preds[0]))\n",
    "    # print (\"Test Accuracy = \" + str(preds[1]))\n",
    "# preds = happyModel.evaluate(x=X_test, y=Y_test,)\n",
    "cnnModel.save('model_315.h5')"
   ]
  },
  {
   "cell_type": "code",
   "execution_count": null,
   "metadata": {},
   "outputs": [],
   "source": [
    "from tqdm import tqdm\n",
    "def evaluate(model, batch_num=30):\n",
    "    batch_acc = 0\n",
    "    for i in tqdm(range(batch_num)):\n",
    "        X = X_test[i]\n",
    "        y = []\n",
    "        for z in Y:\n",
    "            y.append(z[i])\n",
    "        y_pred = model.predict(np.asarray([X]))\n",
    "        acc = np.array_equal(np.array([np.argmax(y, axis=1).T]), np.argmax(y_pred, axis=2).T)\n",
    "        #print(y, y_pred)\n",
    "        ArgA = np.array([np.argmax(y, axis=1).T])\n",
    "        ArgPred = np.argmax(y_pred, axis=2).T \n",
    "        print(ArgA, ArgPred)\n",
    "        print(np.array_equal(ArgA, ArgPred))\n",
    "        #print(np.argmax(y, axis=1), np.argmax(y_pred, axis=2))\n",
    "        batch_acc += acc\n",
    "    return batch_acc / (batch_num * 4)\n",
    "\n",
    "evaluate(model)"
   ]
  },
  {
   "cell_type": "code",
   "execution_count": 13,
   "metadata": {},
   "outputs": [],
   "source": [
    "%matplotlib inline\n",
    "from matplotlib.pyplot import imshow"
   ]
  },
  {
   "cell_type": "code",
   "execution_count": 14,
   "metadata": {},
   "outputs": [],
   "source": [
    "from PIL import Image"
   ]
  },
  {
   "cell_type": "code",
   "execution_count": null,
   "metadata": {
    "scrolled": true
   },
   "outputs": [],
   "source": [
    "im = Image.open('./images/wMp6.jpg')\n",
    "img = np.asarray(im)\n",
    "imshow(img)\n",
    "y_pred = cnnModel.predict(np.asarray([img]))"
   ]
  },
  {
   "cell_type": "code",
   "execution_count": null,
   "metadata": {},
   "outputs": [],
   "source": []
  }
 ],
 "metadata": {
  "kernelspec": {
   "display_name": "Python 3",
   "language": "python",
   "name": "python3"
  },
  "language_info": {
   "codemirror_mode": {
    "name": "ipython",
    "version": 3
   },
   "file_extension": ".py",
   "mimetype": "text/x-python",
   "name": "python",
   "nbconvert_exporter": "python",
   "pygments_lexer": "ipython3",
   "version": "3.6.4"
  }
 },
 "nbformat": 4,
 "nbformat_minor": 2
}
