{
 "cells": [
  {
   "cell_type": "code",
   "execution_count": 16,
   "metadata": {},
   "outputs": [],
   "source": [
    "import keras.backend as K\n",
    "import matplotlib.pyplot as plt\n",
    "import numpy as np\n",
    "from keras import layers, optimizers, regularizers\n",
    "from keras.applications.imagenet_utils import preprocess_input\n",
    "from keras.layers import (Activation, AveragePooling2D, BatchNormalization,\n",
    "                          Conv2D, Dense, Dropout, Flatten,\n",
    "                          GlobalAveragePooling2D, GlobalMaxPooling2D, Input,\n",
    "                          MaxPooling2D, ZeroPadding2D, ActivityRegularization)\n",
    "from keras.models import Model, load_model\n",
    "from keras.preprocessing import image\n",
    "from keras.utils import layer_utils, plot_model\n",
    "from keras.utils.data_utils import get_file\n",
    "from keras.utils.vis_utils import model_to_dot\n",
    "from matplotlib.pyplot import imshow\n",
    "from utils import *\n",
    "\n",
    "import string"
   ]
  },
  {
   "cell_type": "code",
   "execution_count": 17,
   "metadata": {},
   "outputs": [
    {
     "name": "stdout",
     "output_type": "stream",
     "text": [
      "0123456789ABCDEFGHIJKLMNOPQRSTUVWXYZ\n"
     ]
    }
   ],
   "source": [
    "characters = string.digits + string.ascii_uppercase\n",
    "print(characters)\n",
    "n_class, n_len = len(characters), 4 #一共36个字符，每个验证码4个字符\n",
    "\n",
    "K.set_image_data_format('channels_last')"
   ]
  },
  {
   "cell_type": "code",
   "execution_count": 18,
   "metadata": {},
   "outputs": [],
   "source": [
    "model = load_model('train.h5')"
   ]
  },
  {
   "cell_type": "code",
   "execution_count": 19,
   "metadata": {},
   "outputs": [],
   "source": [
    "from captcha.image import ImageCaptcha\n",
    "import matplotlib.pyplot as plt\n",
    "import numpy as np\n",
    "import random\n",
    "\n",
    "from keras.utils.np_utils import to_categorical\n",
    "\n",
    "def gen(batch_size=32):\n",
    "    X = np.zeros((batch_size, height, width, 3), dtype=np.uint8)\n",
    "    y = [np.zeros((batch_size, n_class), dtype=np.uint8) for i in range(n_len)]\n",
    "    generator = ImageCaptcha(width=width, height=height)\n",
    "    while True:\n",
    "        for i in range(batch_size):\n",
    "            random_str = ''.join([random.choice(characters) for j in range(4)])\n",
    "            X[i] = generator.generate_image(random_str)\n",
    "            for j, ch in enumerate(random_str):\n",
    "                y[j][i, :] = 0\n",
    "                y[j][i, characters.find(ch)] = 1\n",
    "        yield X, y"
   ]
  },
  {
   "cell_type": "code",
   "execution_count": 20,
   "metadata": {},
   "outputs": [
    {
     "name": "stderr",
     "output_type": "stream",
     "text": [
      "100%|██████████████████████████████████████████████████████████████████████████████████| 30/30 [00:19<00:00,  1.57it/s]\n"
     ]
    },
    {
     "name": "stdout",
     "output_type": "stream",
     "text": [
      "0.9614583333333333\n"
     ]
    }
   ],
   "source": [
    "width, height, n_len, n_class = 170, 80, 4, len(characters)\n",
    "from tqdm import tqdm\n",
    "def evaluate(model, batch_num=30):\n",
    "    batch_acc = 0\n",
    "    generator = gen()\n",
    "    for i in tqdm(range(batch_num)):\n",
    "        X, y = generator.__next__()\n",
    "        y_pred = model.predict(X)\n",
    "        \n",
    "        ArgA = np.array([np.argmax(y, axis=2).T]).squeeze()\n",
    "        ArgPred = np.argmax(y_pred, axis=2).T \n",
    "        #print(ArgA, ArgPred)\n",
    "        \n",
    "        for j in range(32):\n",
    "            #print(j, ArgA[j], ArgPred[j])\n",
    "            batch_acc += np.array_equal(ArgA[j], ArgPred[j])\n",
    "\n",
    "    return batch_acc / (30 * 32)\n",
    "\n",
    "print(evaluate(model)) #识别的总正确率"
   ]
  },
  {
   "cell_type": "code",
   "execution_count": 21,
   "metadata": {},
   "outputs": [],
   "source": [
    "%matplotlib inline\n",
    "from matplotlib.pyplot import imshow"
   ]
  },
  {
   "cell_type": "code",
   "execution_count": 22,
   "metadata": {},
   "outputs": [],
   "source": [
    "from PIL import Image"
   ]
  },
  {
   "cell_type": "code",
   "execution_count": 23,
   "metadata": {},
   "outputs": [
    {
     "name": "stdout",
     "output_type": "stream",
     "text": [
      "The prediction result is: 468L\n"
     ]
    },
    {
     "data": {
      "image/png": "[encoded data removed]",
      "text/plain": [
       "<Figure size 432x288 with 1 Axes>"
      ]
     },
     "metadata": {},
     "output_type": "display_data"
    }
   ],
   "source": [
    "def decode(y):\n",
    "    y = np.argmax(np.array(y), axis=2)[:,0]\n",
    "    return ''.join([characters[x] for x in y])\n",
    "\n",
    "def pred_decode(pred):\n",
    "    y = pred.squeeze()\n",
    "    return ''.join([characters[x] for x in y])\n",
    "\n",
    "import matplotlib.pyplot as plt\n",
    "%matplotlib inline\n",
    "g = gen(1)\n",
    "X, y = g.__next__()\n",
    "plt.imshow(X[0])\n",
    "plt.title(decode(y))\n",
    "\n",
    "pred = model.predict(np.asarray([X[0]]))\n",
    "ArgPred = np.argmax(pred, axis=2).T \n",
    "pred_str = pred_decode(ArgPred)\n",
    "print(\"The prediction result is: \" + pred_str) #任意显示一张验证的结果"
   ]
  },
  {
   "cell_type": "code",
   "execution_count": null,
   "metadata": {},
   "outputs": [],
   "source": []
  }
 ],
 "metadata": {
  "kernelspec": {
   "display_name": "Python 3",
   "language": "python",
   "name": "python3"
  },
  "language_info": {
   "codemirror_mode": {
    "name": "ipython",
    "version": 3
   },
   "file_extension": ".py",
   "mimetype": "text/x-python",
   "name": "python",
   "nbconvert_exporter": "python",
   "pygments_lexer": "ipython3",
   "version": "3.6.4"
  }
 },
 "nbformat": 4,
 "nbformat_minor": 2
}
